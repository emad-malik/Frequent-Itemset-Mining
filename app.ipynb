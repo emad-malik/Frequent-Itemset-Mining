{
  "cells": [
    {
      "cell_type": "markdown",
      "metadata": {},
      "source": [
        "<b><h1>Loading Sample Dataset</h1></b>"
      ]
    },
    {
      "cell_type": "code",
      "execution_count": 1,
      "metadata": {},
      "outputs": [],
      "source": [
        "import json\n",
        "import re\n",
        "import string\n",
        "\n",
        "sampled_dataset_filename = '/home/hdoop/Documents/BD_A3/sample_1gb_dataset.json'\n",
        "\n",
        "# Function to load the sampled dataset\n",
        "def load_sampled_dataset(filename):\n",
        "    dataset = []\n",
        "    with open(filename, 'r', encoding='utf-8') as f:\n",
        "        for line in f:\n",
        "            # Parse each line as JSON and append to the dataset list\n",
        "            dataset.append(json.loads(line))\n",
        "    return dataset\n",
        "\n",
        "sampled_dataset = load_sampled_dataset(sampled_dataset_filename)"
      ]
    },
    {
      "cell_type": "markdown",
      "metadata": {},
      "source": [
        "<b><h2>PreProcessing</h2></b>"
      ]
    },
    {
      "cell_type": "code",
      "execution_count": 2,
      "metadata": {},
      "outputs": [],
      "source": [
        "# function to handle html tags\n",
        "def remove_html_tags(text):\n",
        "    tag_re = re.compile(r'(<[^>]*>)|(&[^;]+;)')\n",
        "    return tag_re.sub('', text) if text else text\n",
        "\n",
        "# function to handle punctuation\n",
        "def remove_punctuation(text):\n",
        "    cleaned_text= ''.join([char for char in text if char not in string.punctuation])\n",
        "    return cleaned_text\n",
        "\n",
        "# function to convert to float if needed\n",
        "def convert_to_float(value):\n",
        "    try:\n",
        "        return float(value.replace('$', '').strip()) if value else None\n",
        "    except (ValueError, TypeError):\n",
        "        return None\n",
        "# function to clean and format the dataset\n",
        "def preprocess_dataset(dataset):\n",
        "    cleaned_dataset = []\n",
        "    for entry in dataset:\n",
        "        # clean all string fields by removing HTML tags and punctuation\n",
        "        for key, value in entry.items():\n",
        "            if isinstance(value, str):\n",
        "                cleaned_text = remove_html_tags(value)\n",
        "                cleaned_text = remove_punctuation(cleaned_text)\n",
        "                entry[key] = cleaned_text\n",
        "        # convert price if it is a string\n",
        "        if 'price' in entry and isinstance(entry['price'], str):\n",
        "            entry['price'] = convert_to_float(entry['price'])\n",
        "        # exclude entries with HTML tags containing links\n",
        "        if entry.get('asin') and entry.get('title') and not any('<a href=' in feature for feature in entry.get('feature', [])):\n",
        "            cleaned_record = {\n",
        "                \"asin\": entry.get(\"asin\", \"\"),\n",
        "                \"title\": entry.get(\"title\", \"\"),\n",
        "                \"feature\": entry.get(\"feature\", []),\n",
        "                \"description\": entry.get(\"description\", \"\"),\n",
        "                \"price\": entry.get(\"price\"),\n",
        "                \"imageURL\": entry.get(\"imageURL\", \"\"),\n",
        "                \"brand\": entry.get(\"brand\", \"\"),\n",
        "                \"categories\": entry.get(\"categories\", \"\"),\n",
        "                \"also_buy\": entry.get(\"also_buy\")\n",
        "            }\n",
        "            cleaned_dataset.append(cleaned_record)\n",
        "    return cleaned_dataset\n",
        "\n",
        "\n",
        "preprocessed_dataset = preprocess_dataset(sampled_dataset)"
      ]
    },
    {
      "cell_type": "code",
      "execution_count": 3,
      "metadata": {},
      "outputs": [
        {
          "name": "stdout",
          "output_type": "stream",
          "text": [
            "{'asin': '9543894027', 'title': 'Blue Simulated Sapphire Zirconia Austrian Crystals Round Set Pendant Necklace 18 Earrings Bracelet 18 ct Gold Plated', 'feature': ['Comes presented in a beautiful gift box with certificate, perfect for gifting or personal keeping. Beautiful and modern design suitable for ladies of any age who like the luxury.', 'Size: see detail photo. Length of the chain of the necklace 40cm+5cm (17.70 \"). Lenght of the bracelet: 6.6 \" Width: 0.31 \"', 'Color: blue', 'Made of ideal cut Zirconia, this jewelry shines with grace and beauty. The metal surface is of high polished finish.', 'The crystals of this jewelry are not precious or semi-precious gemstones. They are simulated gemstones - imitation. Metal Type: gold plated base metal, nickel free.'], 'description': ['Charming set, encrusted with shining zirconia. Perfect quality production, beautiful and modern design suitable for ladies of any age who like the luxury. This stunning 18 carat gold plated set with high quality zirconia will make you feel like royalty. It includes a necklace, bracelet and a pair of earrings. Easy to mix and match, this design offers simple yet stunningly delicate feminine elegance. Jewelries are in a nice box . An ideal gift!'], 'price': 4600.0, 'imageURL': '', 'brand': 'Crystalline Azuria', 'categories': '', 'also_buy': ['B071J2YNR6', 'B077YG7CZ7', 'B01MRKQYAA', 'B01LYT26H6', 'B00VHTTN0G', 'B072HGDY91', 'B019HCYGZQ', 'B00N4TIYGQ', 'B00VMRB1NU', 'B06XRFTKZY', '9543984719', 'B017I2J3KA', 'B017VH78G8', 'B0732Q8QT4', 'B00VTDWRGW', 'B07BFQF7DK', 'B019GS2IK6', 'B01LXE51W6', 'B074JZJCN3', 'B076P4TXB6', 'B01MRS4BU1']}\n",
            "{'asin': '9789892837', 'title': 'Tommy Bahama Mens Survivalist', 'feature': ['<a class=\"a-link-normal a-color-tertiary\" href=\"/amazon-fashion/b/ref=dp_bc_1?ie=UTF8&node=7141123011\">\\n                Clothing, Shoes & Jewelry\\n            </a>', '<a class=\"a-link-normal a-color-tertiary\" href=\"/Mens-Fashion/b/ref=dp_bc_2?ie=UTF8&node=7147441011\">\\n                Men\\n            </a>', '<a class=\"a-link-normal a-color-tertiary\" href=\"/Men-Clothing/b/ref=dp_bc_3?ie=UTF8&node=1040658\">\\n                Clothing\\n            </a>', '<a class=\"a-link-normal a-color-tertiary\" href=\"/Mens-Shorts/b/ref=dp_bc_4?ie=UTF8&node=1045560\">\\n                Shorts\\n            </a>', '<a class=\"a-link-normal a-color-tertiary\" href=\"/Mens-Cargo-Shorts/b/ref=dp_bc_5?ie=UTF8&node=2476500011\">\\n                 Cargo\\n             </a>', 'Select Size to see the return policy for the item'], 'description': ['Tommy Bahama Men\\'s Size Chart \\nDon\\'t just survive, but thrive in these signature Tommy Bahama&reg; shorts!\\nCrafted from a supersoft, washed cotton.\\nCargo shorts sport an easy, straight fit and knee length.\\nBelt loop waistband.\\nElastic waist and interior drawstring offer a comfortable fit.\\nZip fly and button closure.\\nSlash hand and button-through back pockets.\\nButton-flap cargo pockets.\\nSignature sailfish logo featured at back pocket.\\n100% cotton.\\nMachine wash warm, tumble dry low.\\nImported.\\nMeasurements:\\n\\n     Waist Measurement: 32 in\\n     Outseam: 20 in\\n     Inseam: 8 in\\n     Front Rise: 12 in\\n     Back Rise: 17 in\\n     Leg Opening: 24 in\\n    \\n\\nProduct measurements were taken using size MD (32-34\" Waist), inseam 8. Please note that measurements may vary by size.'], 'price': None, 'imageURL': '', 'brand': '', 'categories': '', 'also_buy': ['B00JGSQQQE', 'B07BSV262S', 'B06Y292ZRM', 'B076J2T2GG', 'B076J8GYF5', 'B00S50FSH2', 'B075V9PT52', 'B076J3SLFM', 'B071GNZ7T4', 'B00XK4XML2', 'B0748L5ZP7', 'B014DPDHCA', 'B0098I81GA', 'B07DXVCQPN', 'B00OIJT9GU', 'B07DYQXKWY', 'B00JULWDVO']}\n",
            "{'asin': '9789889399', 'title': 'Tommy Bahama Mens The Naples Happy Go Cargo 6 Swim Trunks', 'feature': ['<a class=\"a-link-normal a-color-tertiary\" href=\"/amazon-fashion/b/ref=dp_bc_1?ie=UTF8&node=7141123011\">\\n                Clothing, Shoes & Jewelry\\n            </a>', '<a class=\"a-link-normal a-color-tertiary\" href=\"/Mens-Fashion/b/ref=dp_bc_2?ie=UTF8&node=7147441011\">\\n                Men\\n            </a>', '<a class=\"a-link-normal a-color-tertiary\" href=\"/Men-Clothing/b/ref=dp_bc_3?ie=UTF8&node=1040658\">\\n                 Clothing\\n             </a>'], 'description': ['Tommy Bahama Men\\'s Size Chart \\nPlay it cool and carefree from the poolside to the beach in the Tommy Bahama&reg; Naples Happy-Go-Cargo!\\nVolley cut and solid design lend a classic swim look.\\nQuick-drying nylon construction will have you comfortable in and out of the water.\\nSignature Sailfish embroidery at hem.\\nSide seam hand pockets.\\nHook-and-loop back pocket.\\nHook-and-loop cargo pocket.\\nAdjustable drawstring at elastic waist.\\nMesh brief lining.\\n100% nylon.\\nLining: 100% polyester.\\nMachine wash and tumble dry.\\nImported.\\nMeasurements:\\n\\n     Waist Measurement: 32 in\\n     Outseam: 18 in\\n     Inseam: 6 in\\n     Front Rise: 12 in\\n     Back Rise: 17 in\\n     Leg Opening: 24 in\\n    \\n\\nProduct measurements were taken using size MD (32-34\" Waist). Please note that measurements may vary by size.\\nIf you\\'re not fully satisfied with your purchase, you are welcome to return any unworn and unwashed items with tags intact and original packaging included.'], 'price': None, 'imageURL': '', 'brand': '', 'categories': '', 'also_buy': ['B07BGDDRHV', 'B00Z5UJ9CU', 'B074PT7XT2', 'B073S9M3C2', 'B014DPDHCA', 'B0785W3BH1', 'B01N7JHNMG', 'B07CW7J8KG', 'B07H9LZ126', 'B01MRNES5K', 'B01MV12ZLL', 'B076J8GYDW', 'B01BHZ8A7Q', 'B07BSV262S', 'B01M1PL782', 'B00L5J0OCY', 'B01N1K817S', 'B00W5QCPAK', 'B000N8X7Z4', 'B00S50FSH2', 'B00U06UIBA', 'B071GD1382', 'B01M0MW68I']}\n",
            "{'asin': '9789880189', 'title': 'Tommy Bahama Long Sleeve Easy Breezer Linen Camp Shirt', 'feature': ['<a class=\"a-link-normal a-color-tertiary\" href=\"/amazon-fashion/b/ref=dp_bc_1?ie=UTF8&node=7141123011\">\\n                Clothing, Shoes & Jewelry\\n            </a>', '<a class=\"a-link-normal a-color-tertiary\" href=\"/Mens-Fashion/b/ref=dp_bc_2?ie=UTF8&node=7147441011\">\\n                Men\\n            </a>', '<a class=\"a-link-normal a-color-tertiary\" href=\"/Men-Clothing/b/ref=dp_bc_3?ie=UTF8&node=1040658\">\\n                Clothing\\n            </a>', '<a class=\"a-link-normal a-color-tertiary\" href=\"/Mens-Shirts/b/ref=dp_bc_4?ie=UTF8&node=2476517011\">\\n                Shirts\\n            </a>', '<a class=\"a-link-normal a-color-tertiary\" href=\"/Mens-Casual-Button-Down-Shirts/b/ref=dp_bc_5?ie=UTF8&node=1045630\">\\n                 Casual Button-Down Shirts\\n             </a>'], 'description': ['Made of washed linen, this long-sleeve favorite has a relaxed fit and style. \\n<br /> \\n<br /> \\n<br />Note: The size chart shown is the measurements of the actual shirt and NOT your chest. The sizes are approximate. Please email me for specific measurements if you need them. \\n<br />'], 'price': None, 'imageURL': '', 'brand': '', 'categories': '', 'also_buy': ['B00T8OATXM']}\n",
            "{'asin': '9792252916', 'title': 'Casio Mens Quartz Resin Casual Watch ColorBlack Model W591V', 'feature': ['<a class=\"a-link-normal a-color-tertiary\" href=\"/amazon-fashion/b/ref=dp_bc_1?ie=UTF8&node=7141123011\">\\n                Clothing, Shoes & Jewelry\\n            </a>', '<a class=\"a-link-normal a-color-tertiary\" href=\"/Mens-Fashion/b/ref=dp_bc_2?ie=UTF8&node=7147441011\">\\n                Men\\n            </a>', '<a class=\"a-link-normal a-color-tertiary\" href=\"/Mens-Watches/b/ref=dp_bc_3?ie=UTF8&node=6358539011\">\\n                Watches\\n            </a>', '<a class=\"a-link-normal a-color-tertiary\" href=\"/Mens-Wrist-Watches/b/ref=dp_bc_4?ie=UTF8&node=6358540011\">\\n                 Wrist Watches\\n             </a>'], 'description': ['A tried and true style that always remains in fashion. With its daily alarm, hourly time signal and auto calendar, youll never need to worry about missing an appointment again. Black Casual Classic Watch with a Resin Band.', \"With its iconic digital design and host of features, the Classic Watch #59-1V from Casio offers micro-light illumination that's great for casual day or evening wear. This compact and sporty timepiece also includes a 1/100-second stopwatch, hourly time signal, and alarm. Water resistant to 165 feet, and boasting seven years of battery life, this Casio original boasts the precision of quartz movement for optimum reliability.\"], 'price': None, 'imageURL': '', 'brand': 'Casio', 'categories': '', 'also_buy': ['B000GB1RAU', 'B000GAWSDG', 'B000VODU5M', 'B0721BB2ZX', 'B01N7XKNSX', 'B000LAKYW8', 'B000GAYQJ0', 'B001B03MXU', 'B000GB1R7S', 'B000J34HN4', 'B001AWZDA4', 'B0053HDR78', 'B000GB1RCI', 'B002J4UBJ0', 'B0721BB2ZW', 'B005JVP2NU', 'B01MZF6LL2', 'B07D926L1B', 'B000AQVRYC', 'B00006I551', 'B002J4UBJA', 'B07BFHBHXC', 'B00MDIUIFE', 'B078V3LDLJ', 'B00134L97K', 'B000GAWSFO', 'B000GAYQKY', 'B07C9F8XLL', 'B0053HBJBE', 'B079KDNTZP', 'B00F0NCEDI', 'B007EBUBCK', 'B00J6IITPK', 'B00067KRVO', 'B07FJXCYBB', 'B01MY8CBXB', 'B006CHML4I', 'B000GB0G2A', 'B000GAWS7W', 'B003BJFQW4', 'B005FEY47Q', 'B007421JGG', 'B000AQVRWO', 'B000JNKABW', 'B00001WRSJ', 'B007RWZHXO', 'B00X08P2TI', 'B07734SKFC', 'B01BCZRT1O', '1941234518', 'B074848WC7', 'B009RA6C1K', 'B00009LI4K', 'B000HZT48M', 'B019FELCFI']}\n"
          ]
        }
      ],
      "source": [
        "# Print the first few records of the preprocessed dataset\n",
        "for record in preprocessed_dataset[:5]:\n",
        "    print(record)"
      ]
    },
    {
      "cell_type": "markdown",
      "metadata": {},
      "source": [
        "<h3>Saving Dataset</h3>"
      ]
    },
    {
      "cell_type": "code",
      "execution_count": 4,
      "metadata": {},
      "outputs": [],
      "source": [
        "def save_preprocessed_dataset(dataset, filename):\n",
        "    with open(filename, 'w', encoding='utf-8') as f:\n",
        "        json.dump(dataset, f, ensure_ascii=False, indent=4)\n",
        "\n",
        "output_filename = '/home/hdoop/Documents/BD_A3/preprocessed_dataset.json'\n",
        "# save the preprocessed dataset to a file\n",
        "save_preprocessed_dataset(preprocessed_dataset, output_filename)"
      ]
    },
    {
      "cell_type": "code",
      "execution_count": null,
      "metadata": {},
      "outputs": [],
      "source": []
    }
  ],
  "metadata": {
    "colab": {
      "provenance": []
    },
    "kernelspec": {
      "display_name": "Python 3",
      "name": "python3"
    },
    "language_info": {
      "codemirror_mode": {
        "name": "ipython",
        "version": 3
      },
      "file_extension": ".py",
      "mimetype": "text/x-python",
      "name": "python",
      "nbconvert_exporter": "python",
      "pygments_lexer": "ipython3",
      "version": "3.10.12"
    }
  },
  "nbformat": 4,
  "nbformat_minor": 0
}
